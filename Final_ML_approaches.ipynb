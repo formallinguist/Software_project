{
  "nbformat": 4,
  "nbformat_minor": 0,
  "metadata": {
    "colab": {
      "provenance": []
    },
    "kernelspec": {
      "name": "python3",
      "display_name": "Python 3"
    },
    "language_info": {
      "name": "python"
    }
  },
  "cells": [
    {
      "cell_type": "markdown",
      "source": [
        "#Naive Bayes"
      ],
      "metadata": {
        "id": "9An45C5YJ_RB"
      }
    },
    {
      "cell_type": "markdown",
      "source": [
        "## Naive bayes"
      ],
      "metadata": {
        "id": "wx5tjTi4Vdtk"
      }
    },
    {
      "cell_type": "code",
      "source": [
        "import pandas as pd\n",
        "from sklearn.model_selection import train_test_split\n",
        "from sklearn.feature_extraction.text import CountVectorizer\n",
        "from sklearn.naive_bayes import MultinomialNB\n",
        "from sklearn.metrics import classification_report, confusion_matrix\n",
        "\n",
        "# Load the training dataset\n",
        "train_df = pd.read_excel(\"/content/cleaned_Chungli_ao.xlsx\")\n",
        "\n",
        "# Load the test dataset\n",
        "test_df = pd.read_excel(\"/content/Chungli_Ao_test.xlsx\")\n",
        "\n",
        "# Exploring the training data\n",
        "print(train_df.head())\n",
        "\n",
        "# Assuming the training data has columns 'Text' and 'Sentiment'\n",
        "# Encoding the sentiments (POSITIVE -> 1, NEGATIVE -> 0)\n",
        "train_df['Sentiment_Labels'] = train_df['Sentiment'].apply(lambda x: 1 if x == \"POSITIVE\" else 0)\n",
        "\n",
        "# Splitting the data into features (X) and target (y)\n",
        "X_train = train_df['Text']\n",
        "y_train = train_df['Sentiment_Labels']\n",
        "\n",
        "# For the test data, assuming it has only the 'Text' column\n",
        "X_test = test_df['Text']\n",
        "\n",
        "# Vectorize the text data (both train and test)\n",
        "vectorizer = CountVectorizer()\n",
        "X_train_count = vectorizer.fit_transform(X_train.values)\n",
        "X_test_count = vectorizer.transform(X_test.values)\n",
        "\n",
        "# Train the Naive Bayes model\n",
        "model = MultinomialNB()\n",
        "model.fit(X_train_count, y_train)\n",
        "\n",
        "# If test_df has labels for evaluation (modify if necessary)\n",
        "if 'Sentiment' in test_df.columns:\n",
        "    test_df['Sentiment_Labels'] = test_df['Sentiment'].apply(lambda x: 1 if x == \"POSITIVE\" else 0)\n",
        "    y_test = test_df['Sentiment_Labels']\n",
        "\n",
        "    # Predict on the test data\n",
        "    y_pred = model.predict(X_test_count)\n",
        "\n",
        "    # Evaluate the model\n",
        "    print(classification_report(y_test, y_pred))\n",
        "    print(confusion_matrix(y_test, y_pred))\n",
        "else:\n",
        "    # If there are no labels in test data, just print the predictions\n",
        "    predictions = model.predict(X_test_count)\n",
        "    print(predictions)"
      ],
      "metadata": {
        "colab": {
          "base_uri": "https://localhost:8080/"
        },
        "id": "klBwgPMNlOKp",
        "outputId": "5ed9f395-c3bc-4217-a235-956db14eb8df"
      },
      "execution_count": null,
      "outputs": [
        {
          "output_type": "stream",
          "name": "stdout",
          "text": [
            "                                                Text Sentiment\n",
            "0  Kohima nung nisung asem Tang tashi nung tashid...  POSITIVE\n",
            "1  asenok ajak semdangtsü imlaa Paisa, nüburtem d...  POSITIVE\n",
            "2  Iba shisadokden senden nung atema senden nung ...  POSITIVE\n",
            "3  Iba senden nung Chief menogo. Iba senden nung ...  POSITIVE\n",
            "4  Iba senden nung 2021-22 atema V AC tasen ka as...  POSITIVE\n",
            "              precision    recall  f1-score   support\n",
            "\n",
            "           0       0.86      0.93      0.89      1000\n",
            "           1       0.92      0.85      0.88      1000\n",
            "\n",
            "    accuracy                           0.89      2000\n",
            "   macro avg       0.89      0.89      0.89      2000\n",
            "weighted avg       0.89      0.89      0.89      2000\n",
            "\n",
            "[[927  73]\n",
            " [154 846]]\n"
          ]
        }
      ]
    },
    {
      "cell_type": "markdown",
      "source": [
        "## Naive bayes with n gram range"
      ],
      "metadata": {
        "id": "ySaE4WNdVl3O"
      }
    },
    {
      "cell_type": "code",
      "source": [
        "import pandas as pd\n",
        "from sklearn.model_selection import train_test_split\n",
        "from sklearn.feature_extraction.text import CountVectorizer\n",
        "from sklearn.naive_bayes import MultinomialNB\n",
        "from sklearn.metrics import classification_report, confusion_matrix\n",
        "\n",
        "# Load the training dataset\n",
        "train_df = pd.read_excel(\"/content/cleaned_Chungli_ao.xlsx\")\n",
        "\n",
        "# Load the test dataset\n",
        "test_df = pd.read_excel(\"/content/Chungli_Ao_test.xlsx\")\n",
        "\n",
        "# Exploring the training data\n",
        "print(train_df.head())\n",
        "\n",
        "# Assuming the training data has columns 'Text' and 'Sentiment'\n",
        "# Encoding the sentiments (POSITIVE -> 1, NEGATIVE -> 0)\n",
        "train_df['Sentiment_Labels'] = train_df['Sentiment'].apply(lambda x: 1 if x == \"POSITIVE\" else 0)\n",
        "\n",
        "# Splitting the data into features (X) and target (y)\n",
        "X_train = train_df['Text']\n",
        "y_train = train_df['Sentiment_Labels']\n",
        "\n",
        "# For the test data, assuming it has only the 'Text' column\n",
        "X_test = test_df['Text']\n",
        "\n",
        "# Vectorize the text data (both train and test) with n-gram range\n",
        "vectorizer = CountVectorizer(ngram_range=(1, 3))\n",
        "X_train_count = vectorizer.fit_transform(X_train.values)\n",
        "X_test_count = vectorizer.transform(X_test.values)\n",
        "\n",
        "# Train the Naive Bayes model\n",
        "model = MultinomialNB()\n",
        "model.fit(X_train_count, y_train)\n",
        "\n",
        "# If test_df has labels for evaluation (modify if necessary)\n",
        "if 'Sentiment' in test_df.columns:\n",
        "    test_df['Sentiment_Labels'] = test_df['Sentiment'].apply(lambda x: 1 if x == \"POSITIVE\" else 0)\n",
        "    y_test = test_df['Sentiment_Labels']\n",
        "\n",
        "    # Predict on the test data\n",
        "    y_pred = model.predict(X_test_count)\n",
        "\n",
        "    # Evaluate the model\n",
        "    print(classification_report(y_test, y_pred))\n",
        "    print(confusion_matrix(y_test, y_pred))\n",
        "else:\n",
        "    # If there are no labels in test data, just print the predictions\n",
        "    predictions = model.predict(X_test_count)\n",
        "    print(predictions)"
      ],
      "metadata": {
        "colab": {
          "base_uri": "https://localhost:8080/"
        },
        "id": "SQO1QUlfVAiU",
        "outputId": "02ef2c3b-4239-4670-8e5a-4a3beebcea1b"
      },
      "execution_count": null,
      "outputs": [
        {
          "output_type": "stream",
          "name": "stdout",
          "text": [
            "                                                Text Sentiment\n",
            "0  Kohima nung nisung asem Tang tashi nung tashid...  POSITIVE\n",
            "1  asenok ajak semdangtsü imlaa Paisa, nüburtem d...  POSITIVE\n",
            "2  Iba shisadokden senden nung atema senden nung ...  POSITIVE\n",
            "3  Iba senden nung Chief menogo. Iba senden nung ...  POSITIVE\n",
            "4  Iba senden nung 2021-22 atema V AC tasen ka as...  POSITIVE\n",
            "              precision    recall  f1-score   support\n",
            "\n",
            "           0       0.86      0.92      0.89      1000\n",
            "           1       0.91      0.85      0.88      1000\n",
            "\n",
            "    accuracy                           0.89      2000\n",
            "   macro avg       0.89      0.89      0.89      2000\n",
            "weighted avg       0.89      0.89      0.89      2000\n",
            "\n",
            "[[918  82]\n",
            " [147 853]]\n"
          ]
        }
      ]
    },
    {
      "cell_type": "markdown",
      "source": [
        "##naive bayes tfidf"
      ],
      "metadata": {
        "id": "VqDTGcAAXCM1"
      }
    },
    {
      "cell_type": "code",
      "source": [
        "import pandas as pd\n",
        "from sklearn.model_selection import train_test_split\n",
        "from sklearn.feature_extraction.text import TfidfVectorizer\n",
        "from sklearn.naive_bayes import MultinomialNB\n",
        "from sklearn.metrics import classification_report, confusion_matrix\n",
        "\n",
        "# Load the training dataset\n",
        "train_df = pd.read_excel(\"/content/cleaned_Chungli_ao.xlsx\")\n",
        "\n",
        "# Load the test dataset\n",
        "test_df = pd.read_excel(\"/content/Chungli_Ao_test.xlsx\")\n",
        "\n",
        "# Exploring the training data\n",
        "print(train_df.head())\n",
        "\n",
        "# Assuming the training data has columns 'Text' and 'Sentiment'\n",
        "# Encoding the sentiments (POSITIVE -> 1, NEGATIVE -> 0)\n",
        "train_df['Sentiment_Labels'] = train_df['Sentiment'].apply(lambda x: 1 if x == \"POSITIVE\" else 0)\n",
        "\n",
        "# Splitting the data into features (X) and target (y)\n",
        "X_train = train_df['Text']\n",
        "y_train = train_df['Sentiment_Labels']\n",
        "\n",
        "# For the test data, assuming it has only the 'Text' column\n",
        "X_test = test_df['Text']\n",
        "\n",
        "# Vectorize the text data (both train and test) using TfidfVectorizer\n",
        "vectorizer = TfidfVectorizer()\n",
        "X_train_tfidf = vectorizer.fit_transform(X_train.values)\n",
        "X_test_tfidf = vectorizer.transform(X_test.values)\n",
        "\n",
        "# Train the Naive Bayes model\n",
        "model = MultinomialNB()\n",
        "model.fit(X_train_tfidf, y_train)\n",
        "\n",
        "# If test_df has labels for evaluation (modify if necessary)\n",
        "if 'Sentiment' in test_df.columns:\n",
        "    test_df['Sentiment_Labels'] = test_df['Sentiment'].apply(lambda x: 1 if x == \"POSITIVE\" else 0)\n",
        "    y_test = test_df['Sentiment_Labels']\n",
        "\n",
        "    # Predict on the test data\n",
        "    y_pred = model.predict(X_test_tfidf)\n",
        "\n",
        "    # Evaluate the model\n",
        "    print(classification_report(y_test, y_pred))\n",
        "    print(confusion_matrix(y_test, y_pred))\n",
        "else:\n",
        "    # If there are no labels in test data, just print the predictions\n",
        "    predictions = model.predict(X_test_tfidf)\n",
        "    print(predictions)"
      ],
      "metadata": {
        "colab": {
          "base_uri": "https://localhost:8080/"
        },
        "id": "wdkT5umXVtWw",
        "outputId": "16da9be8-2b1f-4412-bbd3-704f28ebc272"
      },
      "execution_count": null,
      "outputs": [
        {
          "output_type": "stream",
          "name": "stdout",
          "text": [
            "                                                Text Sentiment\n",
            "0  Kohima nung nisung asem Tang tashi nung tashid...  POSITIVE\n",
            "1  asenok ajak semdangtsü imlaa Paisa, nüburtem d...  POSITIVE\n",
            "2  Iba shisadokden senden nung atema senden nung ...  POSITIVE\n",
            "3  Iba senden nung Chief menogo. Iba senden nung ...  POSITIVE\n",
            "4  Iba senden nung 2021-22 atema V AC tasen ka as...  POSITIVE\n",
            "              precision    recall  f1-score   support\n",
            "\n",
            "           0       0.85      0.92      0.89      1000\n",
            "           1       0.92      0.84      0.88      1000\n",
            "\n",
            "    accuracy                           0.88      2000\n",
            "   macro avg       0.88      0.88      0.88      2000\n",
            "weighted avg       0.88      0.88      0.88      2000\n",
            "\n",
            "[[924  76]\n",
            " [160 840]]\n"
          ]
        }
      ]
    },
    {
      "cell_type": "markdown",
      "source": [
        "#naive bayes tfidf ngram"
      ],
      "metadata": {
        "id": "Oo75g59fXG_o"
      }
    },
    {
      "cell_type": "code",
      "source": [
        "import pandas as pd\n",
        "from sklearn.model_selection import train_test_split\n",
        "from sklearn.feature_extraction.text import TfidfVectorizer\n",
        "from sklearn.naive_bayes import MultinomialNB\n",
        "from sklearn.metrics import classification_report, confusion_matrix\n",
        "\n",
        "# Load the training dataset\n",
        "train_df = pd.read_excel(\"/content/cleaned_Chungli_ao.xlsx\")\n",
        "\n",
        "# Load the test dataset\n",
        "test_df = pd.read_excel(\"/content/Chungli_Ao_test.xlsx\")\n",
        "\n",
        "# Exploring the training data\n",
        "print(train_df.head())\n",
        "\n",
        "# Assuming the training data has columns 'Text' and 'Sentiment'\n",
        "# Encoding the sentiments (POSITIVE -> 1, NEGATIVE -> 0)\n",
        "train_df['Sentiment_Labels'] = train_df['Sentiment'].apply(lambda x: 1 if x == \"POSITIVE\" else 0)\n",
        "\n",
        "# Splitting the data into features (X) and target (y)\n",
        "X_train = train_df['Text']\n",
        "y_train = train_df['Sentiment_Labels']\n",
        "\n",
        "# For the test data, assuming it has only the 'Text' column\n",
        "X_test = test_df['Text']\n",
        "\n",
        "# Vectorize the text data (both train and test) using TfidfVectorizer with n-grams\n",
        "vectorizer = TfidfVectorizer(ngram_range=(1, 3))  # This will include unigrams and bigrams\n",
        "X_train_tfidf = vectorizer.fit_transform(X_train.values)\n",
        "X_test_tfidf = vectorizer.transform(X_test.values)\n",
        "\n",
        "# Train the Naive Bayes model\n",
        "model = MultinomialNB()\n",
        "model.fit(X_train_tfidf, y_train)\n",
        "\n",
        "# If test_df has labels for evaluation (modify if necessary)\n",
        "if 'Sentiment' in test_df.columns:\n",
        "    test_df['Sentiment_Labels'] = test_df['Sentiment'].apply(lambda x: 1 if x == \"POSITIVE\" else 0)\n",
        "    y_test = test_df['Sentiment_Labels']\n",
        "\n",
        "    # Predict on the test data\n",
        "    y_pred = model.predict(X_test_tfidf)\n",
        "\n",
        "    # Evaluate the model\n",
        "    print(classification_report(y_test, y_pred))\n",
        "    print(confusion_matrix(y_test, y_pred))\n",
        "else:\n",
        "    # If there are no labels in test data, just print the predictions\n",
        "    predictions = model.predict(X_test_tfidf)\n",
        "    print(predictions)\n"
      ],
      "metadata": {
        "colab": {
          "base_uri": "https://localhost:8080/"
        },
        "id": "a78S7GkGWTGI",
        "outputId": "4b8b88f5-98e6-4693-8d1c-9ec098fb6095"
      },
      "execution_count": null,
      "outputs": [
        {
          "output_type": "stream",
          "name": "stdout",
          "text": [
            "                                                Text Sentiment\n",
            "0  Kohima nung nisung asem Tang tashi nung tashid...  POSITIVE\n",
            "1  asenok ajak semdangtsü imlaa Paisa, nüburtem d...  POSITIVE\n",
            "2  Iba shisadokden senden nung atema senden nung ...  POSITIVE\n",
            "3  Iba senden nung Chief menogo. Iba senden nung ...  POSITIVE\n",
            "4  Iba senden nung 2021-22 atema V AC tasen ka as...  POSITIVE\n",
            "              precision    recall  f1-score   support\n",
            "\n",
            "           0       0.86      0.92      0.89      1000\n",
            "           1       0.91      0.85      0.88      1000\n",
            "\n",
            "    accuracy                           0.89      2000\n",
            "   macro avg       0.89      0.89      0.89      2000\n",
            "weighted avg       0.89      0.89      0.89      2000\n",
            "\n",
            "[[918  82]\n",
            " [145 855]]\n"
          ]
        }
      ]
    },
    {
      "cell_type": "code",
      "source": [
        "import seaborn as sns\n",
        "import matplotlib.pyplot as plt\n",
        "from sklearn.metrics import confusion_matrix\n",
        "\n",
        "# Assuming y_test and y_pred are already defined\n",
        "conf_matrix = confusion_matrix(y_test, y_pred)\n",
        "\n",
        "# Create a heatmap with Seaborn\n",
        "plt.figure(figsize=(3, 3))\n",
        "sns.heatmap(conf_matrix, annot=True, fmt='d', cmap='Blues', cbar=False, xticklabels=['Negative', 'Positive'], yticklabels=['Negative', 'Positive'])\n",
        "plt.xlabel('Predicted')\n",
        "plt.ylabel('Actual')\n",
        "plt.title('Confusion Matrix')\n",
        "plt.show()"
      ],
      "metadata": {
        "colab": {
          "base_uri": "https://localhost:8080/",
          "height": 333
        },
        "id": "zs1I5upXDE2R",
        "outputId": "2f5a721a-d519-4f76-d235-7f03720293b5"
      },
      "execution_count": null,
      "outputs": [
        {
          "output_type": "display_data",
          "data": {
            "text/plain": [
              "<Figure size 300x300 with 1 Axes>"
            ],
            "image/png": "[encoded data removed]"
          },
          "metadata": {}
        }
      ]
    },
    {
      "cell_type": "markdown",
      "source": [
        "#SVM without feature engineering only with Basic CV"
      ],
      "metadata": {
        "id": "tLa_z1VCKDAh"
      }
    },
    {
      "cell_type": "code",
      "source": [
        "import pandas as pd\n",
        "from sklearn.model_selection import train_test_split\n",
        "from sklearn.feature_extraction.text import CountVectorizer\n",
        "from sklearn.svm import SVC\n",
        "from sklearn.metrics import classification_report, confusion_matrix\n",
        "\n",
        "# Load the training dataset\n",
        "train_df = pd.read_excel(\"/content/cleaned_Chungli_ao.xlsx\")\n",
        "\n",
        "# Load the test dataset\n",
        "test_df = pd.read_excel(\"/content/Chungli_Ao_test.xlsx\")\n",
        "\n",
        "# Exploring the training data\n",
        "print(train_df.head())\n",
        "\n",
        "# Assuming the training data has columns 'Text' and 'Sentiment'\n",
        "# Encoding the sentiments (POSITIVE -> 1, NEGATIVE -> 0)\n",
        "train_df['Sentiment_Labels'] = train_df['Sentiment'].apply(lambda x: 1 if x == \"POSITIVE\" else 0)\n",
        "\n",
        "# Splitting the data into features (X) and target (y)\n",
        "X_train = train_df['Text']\n",
        "y_train = train_df['Sentiment_Labels']\n",
        "\n",
        "# For the test data, assuming it has only the 'Text' column\n",
        "X_test = test_df['Text']\n",
        "\n",
        "# Vectorize the text data (both train and test)\n",
        "vectorizer = CountVectorizer()\n",
        "X_train_count = vectorizer.fit_transform(X_train.values)\n",
        "X_test_count = vectorizer.transform(X_test.values)\n",
        "\n",
        "# Train the SVM model\n",
        "model = SVC(kernel='linear')  # You can change the kernel as needed\n",
        "model.fit(X_train_count, y_train)\n",
        "\n",
        "# If test_df has labels for evaluation (modify if necessary)\n",
        "if 'Sentiment' in test_df.columns:\n",
        "    test_df['Sentiment_Labels'] = test_df['Sentiment'].apply(lambda x: 1 if x == \"POSITIVE\" else 0)\n",
        "    y_test = test_df['Sentiment_Labels']\n",
        "\n",
        "    # Predict on the test data\n",
        "    y_pred = model.predict(X_test_count)\n",
        "\n",
        "    # Evaluate the model\n",
        "    print(classification_report(y_test, y_pred))\n",
        "    print(confusion_matrix(y_test, y_pred))\n",
        "else:\n",
        "    # If there are no labels in test data, just print the predictions\n",
        "    predictions = model.predict(X_test_count)\n",
        "    print(predictions)"
      ],
      "metadata": {
        "colab": {
          "base_uri": "https://localhost:8080/"
        },
        "id": "iX9IYUqgld6G",
        "outputId": "13885b12-89af-4e24-9c3f-cd36b6718355"
      },
      "execution_count": null,
      "outputs": [
        {
          "output_type": "stream",
          "name": "stdout",
          "text": [
            "                                                Text Sentiment\n",
            "0  Kohima nung nisung asem Tang tashi nung tashid...  POSITIVE\n",
            "1  asenok ajak semdangtsü imlaa Paisa, nüburtem d...  POSITIVE\n",
            "2  Iba shisadokden senden nung atema senden nung ...  POSITIVE\n",
            "3  Iba senden nung Chief menogo. Iba senden nung ...  POSITIVE\n",
            "4  Iba senden nung 2021-22 atema V AC tasen ka as...  POSITIVE\n",
            "              precision    recall  f1-score   support\n",
            "\n",
            "           0       0.85      0.86      0.86      1000\n",
            "           1       0.86      0.85      0.86      1000\n",
            "\n",
            "    accuracy                           0.86      2000\n",
            "   macro avg       0.86      0.86      0.86      2000\n",
            "weighted avg       0.86      0.86      0.86      2000\n",
            "\n",
            "[[865 135]\n",
            " [150 850]]\n"
          ]
        }
      ]
    },
    {
      "cell_type": "markdown",
      "source": [
        "#Svm with feature enginerring based on the ngram using CV"
      ],
      "metadata": {
        "id": "ZqVDX495KKHa"
      }
    },
    {
      "cell_type": "code",
      "source": [
        "import pandas as pd\n",
        "from sklearn.model_selection import train_test_split\n",
        "from sklearn.feature_extraction.text import CountVectorizer\n",
        "from sklearn.svm import SVC\n",
        "from sklearn.metrics import classification_report, confusion_matrix\n",
        "\n",
        "# Load the training dataset\n",
        "train_df = pd.read_excel(\"/content/cleaned_Chungli_ao.xlsx\")\n",
        "\n",
        "# Load the test dataset\n",
        "test_df = pd.read_excel(\"/content/Chungli_Ao_test.xlsx\")\n",
        "\n",
        "# Exploring the training data\n",
        "print(train_df.head())\n",
        "\n",
        "# Assuming the training data has columns 'Text' and 'Sentiment'\n",
        "# Encoding the sentiments (POSITIVE -> 1, NEGATIVE -> 0)\n",
        "train_df['Sentiment_Labels'] = train_df['Sentiment'].apply(lambda x: 1 if x == \"POSITIVE\" else 0)\n",
        "\n",
        "# Splitting the data into features (X) and target (y)\n",
        "X_train = train_df['Text']\n",
        "y_train = train_df['Sentiment_Labels']\n",
        "\n",
        "# For the test data, assuming it has only the 'Text' column\n",
        "X_test = test_df['Text']\n",
        "\n",
        "# Vectorize the text data (both train and test) with n-grams (unigrams and bigrams)\n",
        "vectorizer = CountVectorizer(ngram_range=(1,3))\n",
        "X_train_count = vectorizer.fit_transform(X_train.values)\n",
        "X_test_count = vectorizer.transform(X_test.values)\n",
        "\n",
        "# Train the SVM model\n",
        "model = SVC(kernel='linear')  # You can change the kernel as needed\n",
        "model.fit(X_train_count, y_train)\n",
        "\n",
        "# If test_df has labels for evaluation (modify if necessary)\n",
        "if 'Sentiment' in test_df.columns:\n",
        "    test_df['Sentiment_Labels'] = test_df['Sentiment'].apply(lambda x: 1 if x == \"POSITIVE\" else 0)\n",
        "    y_test = test_df['Sentiment_Labels']\n",
        "\n",
        "    # Predict on the test data\n",
        "    y_pred = model.predict(X_test_count)\n",
        "\n",
        "    # Evaluate the model\n",
        "    print(classification_report(y_test, y_pred))\n",
        "    print(confusion_matrix(y_test, y_pred))\n",
        "else:\n",
        "    # If there are no labels in test data, just print the predictions\n",
        "    predictions = model.predict(X_test_count)\n",
        "    print(predictions)"
      ],
      "metadata": {
        "colab": {
          "base_uri": "https://localhost:8080/"
        },
        "id": "7HNDI-AEo75j",
        "outputId": "1725db12-8182-4a5b-d551-a06cf112385f"
      },
      "execution_count": null,
      "outputs": [
        {
          "output_type": "stream",
          "name": "stdout",
          "text": [
            "                                                Text Sentiment\n",
            "0  Kohima nung nisung asem Tang tashi nung tashid...  POSITIVE\n",
            "1  asenok ajak semdangtsü imlaa Paisa, nüburtem d...  POSITIVE\n",
            "2  Iba shisadokden senden nung atema senden nung ...  POSITIVE\n",
            "3  Iba senden nung Chief menogo. Iba senden nung ...  POSITIVE\n",
            "4  Iba senden nung 2021-22 atema V AC tasen ka as...  POSITIVE\n",
            "              precision    recall  f1-score   support\n",
            "\n",
            "           0       0.76      0.98      0.86      1000\n",
            "           1       0.98      0.70      0.81      1000\n",
            "\n",
            "    accuracy                           0.84      2000\n",
            "   macro avg       0.87      0.84      0.84      2000\n",
            "weighted avg       0.87      0.84      0.84      2000\n",
            "\n",
            "[[983  17]\n",
            " [303 697]]\n"
          ]
        }
      ]
    },
    {
      "cell_type": "markdown",
      "source": [
        "#svm using n gram feature enginerring using tfidf"
      ],
      "metadata": {
        "id": "Iv3iLpH4KR9n"
      }
    },
    {
      "cell_type": "code",
      "source": [
        "import pandas as pd\n",
        "from sklearn.model_selection import train_test_split\n",
        "from sklearn.feature_extraction.text import TfidfVectorizer\n",
        "from sklearn.svm import SVC\n",
        "from sklearn.metrics import classification_report, confusion_matrix\n",
        "\n",
        "# Load the training dataset\n",
        "train_df = pd.read_excel(\"/content/cleaned_Chungli_ao.xlsx\")\n",
        "\n",
        "# Load the test dataset\n",
        "test_df = pd.read_excel(\"/content/Chungli_Ao_test.xlsx\")\n",
        "\n",
        "# Exploring the training data\n",
        "print(train_df.head())\n",
        "\n",
        "# Assuming the training data has columns 'Text' and 'Sentiment'\n",
        "# Encoding the sentiments (POSITIVE -> 1, NEGATIVE -> 0)\n",
        "train_df['Sentiment_Labels'] = train_df['Sentiment'].apply(lambda x: 1 if x == \"POSITIVE\" else 0)\n",
        "\n",
        "# Splitting the data into features (X) and target (y)\n",
        "X_train = train_df['Text']\n",
        "y_train = train_df['Sentiment_Labels']\n",
        "\n",
        "# For the test data, assuming it has only the 'Text' column\n",
        "X_test = test_df['Text']\n",
        "\n",
        "# Vectorize the text data (both train and test) using TfidfVectorizer\n",
        "vectorizer = TfidfVectorizer(ngram_range=(1, 3))\n",
        "X_train_tfidf = vectorizer.fit_transform(X_train.values)\n",
        "X_test_tfidf = vectorizer.transform(X_test.values)\n",
        "\n",
        "# Train the SVM model\n",
        "model = SVC(kernel='linear')  # You can change the kernel as needed\n",
        "model.fit(X_train_tfidf, y_train)\n",
        "\n",
        "# If test_df has labels for evaluation (modify if necessary)\n",
        "if 'Sentiment' in test_df.columns:\n",
        "    test_df['Sentiment_Labels'] = test_df['Sentiment'].apply(lambda x: 1 if x == \"POSITIVE\" else 0)\n",
        "    y_test = test_df['Sentiment_Labels']\n",
        "\n",
        "    # Predict on the test data\n",
        "    y_pred = model.predict(X_test_tfidf)\n",
        "\n",
        "    # Evaluate the model\n",
        "    print(classification_report(y_test, y_pred))\n",
        "    print(confusion_matrix(y_test, y_pred))\n",
        "else:\n",
        "    # If there are no labels in test data, just print the predictions\n",
        "    predictions = model.predict(X_test_tfidf)\n",
        "    print(predictions)"
      ],
      "metadata": {
        "colab": {
          "base_uri": "https://localhost:8080/"
        },
        "id": "DoUSESbIs0l3",
        "outputId": "88cf802e-e64e-44c3-9f3f-0652fa27af41"
      },
      "execution_count": null,
      "outputs": [
        {
          "output_type": "stream",
          "name": "stdout",
          "text": [
            "                                                Text Sentiment\n",
            "0  Kohima nung nisung asem Tang tashi nung tashid...  POSITIVE\n",
            "1  asenok ajak semdangtsü imlaa Paisa, nüburtem d...  POSITIVE\n",
            "2  Iba shisadokden senden nung atema senden nung ...  POSITIVE\n",
            "3  Iba senden nung Chief menogo. Iba senden nung ...  POSITIVE\n",
            "4  Iba senden nung 2021-22 atema V AC tasen ka as...  POSITIVE\n",
            "              precision    recall  f1-score   support\n",
            "\n",
            "           0       0.84      0.94      0.89      1000\n",
            "           1       0.93      0.82      0.87      1000\n",
            "\n",
            "    accuracy                           0.88      2000\n",
            "   macro avg       0.88      0.88      0.88      2000\n",
            "weighted avg       0.88      0.88      0.88      2000\n",
            "\n",
            "[[935  65]\n",
            " [176 824]]\n"
          ]
        }
      ]
    },
    {
      "cell_type": "markdown",
      "source": [
        "##TF-IDF svm without ngram range"
      ],
      "metadata": {
        "id": "7d2xPIGHZMOn"
      }
    },
    {
      "cell_type": "code",
      "source": [
        "import pandas as pd\n",
        "from sklearn.model_selection import train_test_split\n",
        "from sklearn.feature_extraction.text import TfidfVectorizer\n",
        "from sklearn.svm import SVC\n",
        "from sklearn.metrics import classification_report, confusion_matrix\n",
        "\n",
        "# Load the training dataset\n",
        "train_df = pd.read_excel(\"/content/cleaned_Chungli_ao.xlsx\")\n",
        "\n",
        "# Load the test dataset\n",
        "test_df = pd.read_excel(\"/content/Chungli_Ao_test.xlsx\")\n",
        "\n",
        "# Exploring the training data\n",
        "print(train_df.head())\n",
        "\n",
        "# Assuming the training data has columns 'Text' and 'Sentiment'\n",
        "# Encoding the sentiments (POSITIVE -> 1, NEGATIVE -> 0)\n",
        "train_df['Sentiment_Labels'] = train_df['Sentiment'].apply(lambda x: 1 if x == \"POSITIVE\" else 0)\n",
        "\n",
        "# Splitting the data into features (X) and target (y)\n",
        "X_train = train_df['Text']\n",
        "y_train = train_df['Sentiment_Labels']\n",
        "\n",
        "# For the test data, assuming it has only the 'Text' column\n",
        "X_test = test_df['Text']\n",
        "\n",
        "# Vectorize the text data (both train and test) using TfidfVectorizer\n",
        "vectorizer = TfidfVectorizer()\n",
        "X_train_tfidf = vectorizer.fit_transform(X_train.values)\n",
        "X_test_tfidf = vectorizer.transform(X_test.values)\n",
        "\n",
        "# Train the SVM model\n",
        "model = SVC(kernel='linear')  # You can change the kernel as needed\n",
        "model.fit(X_train_tfidf, y_train)\n",
        "\n",
        "# If test_df has labels for evaluation (modify if necessary)\n",
        "if 'Sentiment' in test_df.columns:\n",
        "    test_df['Sentiment_Labels'] = test_df['Sentiment'].apply(lambda x: 1 if x == \"POSITIVE\" else 0)\n",
        "    y_test = test_df['Sentiment_Labels']\n",
        "\n",
        "    # Predict on the test data\n",
        "    y_pred = model.predict(X_test_tfidf)\n",
        "\n",
        "    # Evaluate the model\n",
        "    print(classification_report(y_test, y_pred))\n",
        "    print(confusion_matrix(y_test, y_pred))\n",
        "else:\n",
        "    # If there are no labels in test data, just print the predictions\n",
        "    predictions = model.predict(X_test_tfidf)\n",
        "    print(predictions)"
      ],
      "metadata": {
        "id": "_b0aYk2Us1cq",
        "colab": {
          "base_uri": "https://localhost:8080/"
        },
        "outputId": "3051bd7e-1425-4581-bea4-30d65a765f02"
      },
      "execution_count": null,
      "outputs": [
        {
          "output_type": "stream",
          "name": "stdout",
          "text": [
            "                                                Text Sentiment\n",
            "0  Kohima nung nisung asem Tang tashi nung tashid...  POSITIVE\n",
            "1  asenok ajak semdangtsü imlaa Paisa, nüburtem d...  POSITIVE\n",
            "2  Iba shisadokden senden nung atema senden nung ...  POSITIVE\n",
            "3  Iba senden nung Chief menogo. Iba senden nung ...  POSITIVE\n",
            "4  Iba senden nung 2021-22 atema V AC tasen ka as...  POSITIVE\n",
            "              precision    recall  f1-score   support\n",
            "\n",
            "           0       0.83      0.96      0.89      1000\n",
            "           1       0.95      0.80      0.87      1000\n",
            "\n",
            "    accuracy                           0.88      2000\n",
            "   macro avg       0.89      0.88      0.88      2000\n",
            "weighted avg       0.89      0.88      0.88      2000\n",
            "\n",
            "[[961  39]\n",
            " [200 800]]\n"
          ]
        }
      ]
    },
    {
      "cell_type": "code",
      "source": [
        "import seaborn as sns\n",
        "import matplotlib.pyplot as plt\n",
        "from sklearn.metrics import confusion_matrix\n",
        "\n",
        "# Assuming y_test and y_pred are already defined\n",
        "conf_matrix = confusion_matrix(y_test, y_pred)\n",
        "\n",
        "# Create a heatmap with Seaborn\n",
        "plt.figure(figsize=(3, 3))\n",
        "sns.heatmap(conf_matrix, annot=True, fmt='d', cmap='Blues', cbar=False, xticklabels=['Negative', 'Positive'], yticklabels=['Negative', 'Positive'])\n",
        "plt.xlabel('Predicted')\n",
        "plt.ylabel('Actual')\n",
        "plt.title('Confusion Matrix')\n",
        "plt.show()"
      ],
      "metadata": {
        "id": "J8v-rBYpZRvu",
        "colab": {
          "base_uri": "https://localhost:8080/",
          "height": 333
        },
        "outputId": "c08c7813-c4f2-4a65-ee37-ad66ea36bcbf"
      },
      "execution_count": null,
      "outputs": [
        {
          "output_type": "display_data",
          "data": {
            "text/plain": [
              "<Figure size 300x300 with 1 Axes>"
            ],
            "image/png": "[encoded data removed]"
          },
          "metadata": {}
        }
      ]
    },
    {
      "cell_type": "code",
      "source": [],
      "metadata": {
        "id": "0a9X7XD5EVvb"
      },
      "execution_count": null,
      "outputs": []
    }
  ]
}