{
  "nbformat": 4,
  "nbformat_minor": 0,
  "metadata": {
    "colab": {
      "provenance": []
    },
    "kernelspec": {
      "name": "python3",
      "display_name": "Python 3"
    },
    "language_info": {
      "name": "python"
    }
  },
  "cells": [
    {
      "cell_type": "code",
      "source": [
        "from googleapiclient.discovery import build\n",
        "from googleapiclient.errors import HttpError\n",
        "import csv\n",
        "import sys\n",
        "\n",
        "# Specify your video ID here\n",
        "video_id = \"\"\n",
        "output_file = \"OUTPUT.csv\"\n",
        "\n",
        "yt_client = build(\n",
        "    \"youtube\", \"v3\", developerKey=\"\"\n",
        ")\n",
        "\n",
        "def get_comments(client, video_id, token=None):\n",
        "    try:\n",
        "        response = (\n",
        "            client.commentThreads()\n",
        "            .list(\n",
        "                part=\"snippet\",\n",
        "                videoId=video_id,\n",
        "                textFormat=\"plainText\",\n",
        "                maxResults=100,\n",
        "                pageToken=token,\n",
        "            )\n",
        "            .execute()\n",
        "        )\n",
        "        return response\n",
        "    except HttpError as e:\n",
        "        print(e.resp.status)\n",
        "        return None\n",
        "    except Exception as e:\n",
        "        print(e)\n",
        "        return None\n",
        "\n",
        "comments = []\n",
        "next = None\n",
        "\n",
        "while True:\n",
        "    resp = get_comments(yt_client, video_id, next)\n",
        "\n",
        "    if not resp:\n",
        "        break\n",
        "\n",
        "    comments += resp[\"items\"]\n",
        "    next = resp.get(\"nextPageToken\")\n",
        "    if not next:\n",
        "        break\n",
        "\n",
        "print(f\"Total comments fetched:{len(comments)}\")\n",
        "\n",
        "with open(output_file, \"w\", newline=\"\", encoding=\"utf-8\") as file:\n",
        "    csvWrite = csv.writer(file)\n",
        "    for i in comments:\n",
        "        row = [i[\"snippet\"][\"topLevelComment\"][\"snippet\"][\"textDisplay\"]]\n",
        "        csvWrite.writerow(row)\n"
      ],
      "metadata": {
        "colab": {
          "base_uri": "https://localhost:8080/"
        },
        "id": "4k3yemMNRvWJ",
        "outputId": "0c38ab3c-138d-4f40-bd6f-be0bcfe6c076"
      },
      "execution_count": null,
      "outputs": [
        {
          "output_type": "stream",
          "name": "stdout",
          "text": [
            "Total comments fetched:844\n"
          ]
        }
      ]
    }
  ]
}