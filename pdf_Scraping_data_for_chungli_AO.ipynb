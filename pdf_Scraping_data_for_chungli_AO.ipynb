{
  "nbformat": 4,
  "nbformat_minor": 0,
  "metadata": {
    "colab": {
      "provenance": []
    },
    "kernelspec": {
      "name": "python3",
      "display_name": "Python 3"
    },
    "language_info": {
      "name": "python"
    }
  },
  "cells": [
    {
      "cell_type": "code",
      "source": [
        "from google.colab import drive\n",
        "drive.mount('/content/drive')"
      ],
      "metadata": {
        "colab": {
          "base_uri": "https://localhost:8080/"
        },
        "id": "WT6zRsPJBQ5a",
        "outputId": "55572b83-31d8-4345-c99a-5927b178cc1a"
      },
      "execution_count": 1,
      "outputs": [
        {
          "output_type": "stream",
          "name": "stdout",
          "text": [
            "Mounted at /content/drive\n"
          ]
        }
      ]
    },
    {
      "cell_type": "code",
      "source": [
        "!pip install  PyPDF2"
      ],
      "metadata": {
        "colab": {
          "base_uri": "https://localhost:8080/"
        },
        "id": "C4KkRlqAz6QV",
        "outputId": "491f68ce-10cf-4d6a-afb8-6edf2ca4f824"
      },
      "execution_count": 2,
      "outputs": [
        {
          "output_type": "stream",
          "name": "stdout",
          "text": [
            "Collecting PyPDF2\n",
            "  Downloading pypdf2-3.0.1-py3-none-any.whl.metadata (6.8 kB)\n",
            "Downloading pypdf2-3.0.1-py3-none-any.whl (232 kB)\n",
            "\u001b[2K   \u001b[90m━━━━━━━━━━━━━━━━━━━━━━━━━━━━━━━━━━━━━━━━\u001b[0m \u001b[32m232.6/232.6 kB\u001b[0m \u001b[31m1.6 MB/s\u001b[0m eta \u001b[36m0:00:00\u001b[0m\n",
            "\u001b[?25hInstalling collected packages: PyPDF2\n",
            "Successfully installed PyPDF2-3.0.1\n"
          ]
        }
      ]
    },
    {
      "cell_type": "code",
      "source": [
        "import os\n",
        "\n",
        "def count_pdf_files(folder_path):\n",
        "    pdf_count = 0\n",
        "    for root, dirs, files in os.walk(folder_path):\n",
        "        for file in files:\n",
        "            if file.lower().endswith(\".pdf\"):\n",
        "                pdf_count += 1\n",
        "    return pdf_count\n",
        "\n",
        "# Replace 'folder_path' with the actual path to your Google Drive folder\n",
        "folder_path = \"/content/drive/MyDrive/AO NEWS corpus-20240802T181959Z-001/AO NEWS corpus\"\n",
        "pdf_count = count_pdf_files(folder_path)\n",
        "\n",
        "print(f\"Number of PDF files in the folder: {pdf_count}\")\n"
      ],
      "metadata": {
        "colab": {
          "base_uri": "https://localhost:8080/"
        },
        "id": "ogTUu2WlUSLk",
        "outputId": "1558d9da-c3b1-4ffa-f566-fb0ac49badc3"
      },
      "execution_count": 3,
      "outputs": [
        {
          "output_type": "stream",
          "name": "stdout",
          "text": [
            "Number of PDF files in the folder: 596\n"
          ]
        }
      ]
    },
    {
      "cell_type": "code",
      "source": [
        "import os\n",
        "import PyPDF2\n",
        "\n",
        "def extract_text_from_pdf(file_path):\n",
        "    with open(file_path, 'rb') as pdf_file_obj:\n",
        "        pdf_reader = PyPDF2.PdfReader(pdf_file_obj)\n",
        "        num_pages = len(pdf_reader.pages)\n",
        "        text = \"\"\n",
        "        for page in range(num_pages):\n",
        "            page_obj = pdf_reader.pages[page]\n",
        "            text += page_obj.extract_text()\n",
        "    return text\n",
        "\n",
        "# Replace 'folder_path' with the actual path to your folder containing the PDF files\n",
        "folder_path = \"/content/drive/MyDrive/AO NEWS corpus-20240802T181959Z-001/AO NEWS corpus\"\n",
        "\n",
        "# List files in the directory to verify the names\n",
        "pdf_files = [f for f in os.listdir(folder_path) if f.endswith('.pdf')]\n",
        "\n",
        "# Ensure there are enough files for the training and pretraining sets\n",
        "if len(pdf_files) >= 185:\n",
        "    # Sort the files to ensure consistent order\n",
        "    pdf_files.sort()\n",
        "\n",
        "    # Initialize empty strings for training and pretraining text\n",
        "    training_text = \"\"\n",
        "    pretraining_text = \"\"\n",
        "\n",
        "    # Extract text from the first 93 PDF files (training set)\n",
        "    for i in range(93):\n",
        "        pdf_path = os.path.join(folder_path, pdf_files[i])\n",
        "        training_text += extract_text_from_pdf(pdf_path)\n",
        "\n",
        "    # Extract text from the remaining 92 PDF files (pretraining set)\n",
        "    for i in range(93, 185):\n",
        "        pdf_path = os.path.join(folder_path, pdf_files[i])\n",
        "        pretraining_text += extract_text_from_pdf(pdf_path)\n",
        "\n",
        "    # Save the extracted text to separate files\n",
        "    with open(\"training.txt\", \"w\", encoding=\"utf-8\") as training_file:\n",
        "        training_file.write(training_text)\n",
        "\n",
        "    with open(\"pretraining.txt\", \"w\", encoding=\"utf-8\") as pretraining_file:\n",
        "        pretraining_file.write(pretraining_text)\n",
        "\n",
        "    print(\"Text extracted and saved successfully!\")\n",
        "else:\n",
        "    print(f\"Not enough PDF files found in the directory. Found {len(pdf_files)} files.\")\n"
      ],
      "metadata": {
        "colab": {
          "base_uri": "https://localhost:8080/"
        },
        "id": "Jx5eLuZaa0me",
        "outputId": "f92c485b-9c18-416b-a71e-409f2aa78fb0"
      },
      "execution_count": 4,
      "outputs": [
        {
          "output_type": "stream",
          "name": "stdout",
          "text": [
            "Text extracted and saved successfully!\n"
          ]
        }
      ]
    },
    {
      "cell_type": "code",
      "source": [],
      "metadata": {
        "id": "BvBsQXJZGzip"
      },
      "execution_count": null,
      "outputs": []
    }
  ]
}